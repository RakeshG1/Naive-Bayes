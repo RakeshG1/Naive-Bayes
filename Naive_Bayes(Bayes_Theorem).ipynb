{
 "cells": [
  {
   "cell_type": "markdown",
   "metadata": {},
   "source": [
    "### Importing Libraries"
   ]
  },
  {
   "cell_type": "code",
   "execution_count": 4,
   "metadata": {},
   "outputs": [],
   "source": [
    "import pandas as pd\n",
    "import numpy as np\n",
    "import os\n",
    "import sys\n",
    "import re\n",
    "import matplotlib.pyplot as plt\n",
    "import warnings\n",
    "warnings.simplefilter(\"ignore\",DeprecationWarning)"
   ]
  },
  {
   "cell_type": "markdown",
   "metadata": {},
   "source": [
    "&nbsp;"
   ]
  },
  {
   "cell_type": "markdown",
   "metadata": {},
   "source": [
    "### Loading Dataset"
   ]
  },
  {
   "cell_type": "code",
   "execution_count": 5,
   "metadata": {},
   "outputs": [
    {
     "data": {
      "text/html": [
       "<div>\n",
       "<style scoped>\n",
       "    .dataframe tbody tr th:only-of-type {\n",
       "        vertical-align: middle;\n",
       "    }\n",
       "\n",
       "    .dataframe tbody tr th {\n",
       "        vertical-align: top;\n",
       "    }\n",
       "\n",
       "    .dataframe thead th {\n",
       "        text-align: right;\n",
       "    }\n",
       "</style>\n",
       "<table border=\"1\" class=\"dataframe\">\n",
       "  <thead>\n",
       "    <tr style=\"text-align: right;\">\n",
       "      <th></th>\n",
       "      <th>outlook</th>\n",
       "      <th>temp</th>\n",
       "      <th>humidity</th>\n",
       "      <th>windy</th>\n",
       "      <th>play</th>\n",
       "    </tr>\n",
       "  </thead>\n",
       "  <tbody>\n",
       "    <tr>\n",
       "      <td>0</td>\n",
       "      <td>sunny</td>\n",
       "      <td>hot</td>\n",
       "      <td>high</td>\n",
       "      <td>False</td>\n",
       "      <td>no</td>\n",
       "    </tr>\n",
       "    <tr>\n",
       "      <td>1</td>\n",
       "      <td>sunny</td>\n",
       "      <td>hot</td>\n",
       "      <td>high</td>\n",
       "      <td>True</td>\n",
       "      <td>no</td>\n",
       "    </tr>\n",
       "    <tr>\n",
       "      <td>2</td>\n",
       "      <td>overcast</td>\n",
       "      <td>hot</td>\n",
       "      <td>high</td>\n",
       "      <td>False</td>\n",
       "      <td>yes</td>\n",
       "    </tr>\n",
       "    <tr>\n",
       "      <td>3</td>\n",
       "      <td>rainy</td>\n",
       "      <td>mild</td>\n",
       "      <td>high</td>\n",
       "      <td>False</td>\n",
       "      <td>yes</td>\n",
       "    </tr>\n",
       "    <tr>\n",
       "      <td>4</td>\n",
       "      <td>rainy</td>\n",
       "      <td>cool</td>\n",
       "      <td>normal</td>\n",
       "      <td>False</td>\n",
       "      <td>yes</td>\n",
       "    </tr>\n",
       "    <tr>\n",
       "      <td>5</td>\n",
       "      <td>rainy</td>\n",
       "      <td>cool</td>\n",
       "      <td>normal</td>\n",
       "      <td>True</td>\n",
       "      <td>no</td>\n",
       "    </tr>\n",
       "    <tr>\n",
       "      <td>6</td>\n",
       "      <td>overcast</td>\n",
       "      <td>cool</td>\n",
       "      <td>normal</td>\n",
       "      <td>True</td>\n",
       "      <td>yes</td>\n",
       "    </tr>\n",
       "    <tr>\n",
       "      <td>7</td>\n",
       "      <td>sunny</td>\n",
       "      <td>mild</td>\n",
       "      <td>high</td>\n",
       "      <td>False</td>\n",
       "      <td>no</td>\n",
       "    </tr>\n",
       "    <tr>\n",
       "      <td>8</td>\n",
       "      <td>sunny</td>\n",
       "      <td>cool</td>\n",
       "      <td>normal</td>\n",
       "      <td>False</td>\n",
       "      <td>yes</td>\n",
       "    </tr>\n",
       "    <tr>\n",
       "      <td>9</td>\n",
       "      <td>rainy</td>\n",
       "      <td>mild</td>\n",
       "      <td>normal</td>\n",
       "      <td>False</td>\n",
       "      <td>yes</td>\n",
       "    </tr>\n",
       "    <tr>\n",
       "      <td>10</td>\n",
       "      <td>sunny</td>\n",
       "      <td>mild</td>\n",
       "      <td>normal</td>\n",
       "      <td>True</td>\n",
       "      <td>yes</td>\n",
       "    </tr>\n",
       "    <tr>\n",
       "      <td>11</td>\n",
       "      <td>overcast</td>\n",
       "      <td>mild</td>\n",
       "      <td>high</td>\n",
       "      <td>True</td>\n",
       "      <td>yes</td>\n",
       "    </tr>\n",
       "    <tr>\n",
       "      <td>12</td>\n",
       "      <td>overcast</td>\n",
       "      <td>hot</td>\n",
       "      <td>normal</td>\n",
       "      <td>False</td>\n",
       "      <td>yes</td>\n",
       "    </tr>\n",
       "    <tr>\n",
       "      <td>13</td>\n",
       "      <td>rainy</td>\n",
       "      <td>mild</td>\n",
       "      <td>high</td>\n",
       "      <td>True</td>\n",
       "      <td>no</td>\n",
       "    </tr>\n",
       "  </tbody>\n",
       "</table>\n",
       "</div>"
      ],
      "text/plain": [
       "     outlook  temp humidity  windy play\n",
       "0      sunny   hot     high  False   no\n",
       "1      sunny   hot     high   True   no\n",
       "2   overcast   hot     high  False  yes\n",
       "3      rainy  mild     high  False  yes\n",
       "4      rainy  cool   normal  False  yes\n",
       "5      rainy  cool   normal   True   no\n",
       "6   overcast  cool   normal   True  yes\n",
       "7      sunny  mild     high  False   no\n",
       "8      sunny  cool   normal  False  yes\n",
       "9      rainy  mild   normal  False  yes\n",
       "10     sunny  mild   normal   True  yes\n",
       "11  overcast  mild     high   True  yes\n",
       "12  overcast   hot   normal  False  yes\n",
       "13     rainy  mild     high   True   no"
      ]
     },
     "execution_count": 5,
     "metadata": {},
     "output_type": "execute_result"
    }
   ],
   "source": [
    "filepath = os.getcwd()+\"/tennis.csv\"\n",
    "df = pd.read_csv(filepath)\n",
    "df"
   ]
  },
  {
   "cell_type": "markdown",
   "metadata": {},
   "source": [
    "&nbsp;"
   ]
  },
  {
   "cell_type": "markdown",
   "metadata": {},
   "source": [
    "### Descriptive Analysis"
   ]
  },
  {
   "cell_type": "code",
   "execution_count": 6,
   "metadata": {},
   "outputs": [
    {
     "name": "stdout",
     "output_type": "stream",
     "text": [
      "columns : ['outlook', 'temp', 'humidity', 'windy', 'play']\n",
      "\n",
      "Data Shape : (14, 5)\n",
      "\n",
      "<class 'pandas.core.frame.DataFrame'>\n",
      "RangeIndex: 14 entries, 0 to 13\n",
      "Data columns (total 5 columns):\n",
      "outlook     14 non-null object\n",
      "temp        14 non-null object\n",
      "humidity    14 non-null object\n",
      "windy       14 non-null bool\n",
      "play        14 non-null object\n",
      "dtypes: bool(1), object(4)\n",
      "memory usage: 590.0+ bytes\n",
      "None\n",
      "\n",
      "\n",
      "outlook     0\n",
      "temp        0\n",
      "humidity    0\n",
      "windy       0\n",
      "play        0\n",
      "dtype: int64\n"
     ]
    }
   ],
   "source": [
    "print('columns : {}\\n'.format(df.columns.tolist()))\n",
    "print('Data Shape : {}\\n'.format(df.shape))\n",
    "print(df.info())\n",
    "print(\"\\n\")\n",
    "print(df.isnull().sum())"
   ]
  },
  {
   "cell_type": "markdown",
   "metadata": {},
   "source": [
    "&nbsp;"
   ]
  },
  {
   "cell_type": "markdown",
   "metadata": {},
   "source": [
    "### Manual Calculation<span style='background:yellow'>(Classification_using_Bayes_Theorem)<span> Categorical variables"
   ]
  },
  {
   "cell_type": "code",
   "execution_count": 7,
   "metadata": {},
   "outputs": [
    {
     "name": "stdout",
     "output_type": "stream",
     "text": [
      "Play_yes count : 9\n",
      "\n",
      "play_no count : 5\n",
      "\n",
      "Probobality of class-yes : 0.643\n",
      "\n",
      "Probabality pf class-no : 0.357\n"
     ]
    }
   ],
   "source": [
    "prob_yes = round(df[df['play']=='yes']['play'].count()/len(df),3)\n",
    "prob_no = round(df[df['play']=='no']['play'].count()/len(df),3)\n",
    "print('Play_yes count : {}\\n'.format(df[df['play']=='yes']['play'].count()))\n",
    "print('play_no count : {}\\n'.format(df[df['play']=='no']['play'].count()))\n",
    "print('Probobality of class-yes : {}\\n'.format(prob_yes))\n",
    "print('Probabality pf class-no : {}'.format(prob_no))"
   ]
  },
  {
   "cell_type": "markdown",
   "metadata": {},
   "source": [
    "&nbsp;"
   ]
  },
  {
   "cell_type": "markdown",
   "metadata": {},
   "source": [
    "### Prior Probabillities and Evidences(which we know through Training Dataset)"
   ]
  },
  {
   "cell_type": "code",
   "execution_count": 8,
   "metadata": {},
   "outputs": [
    {
     "name": "stdout",
     "output_type": "stream",
     "text": [
      "================Outlook===================\n",
      "sunny_count,sunny_yes_count, sunny_no_count : [5,2,3]\n",
      "\n",
      "overcast_count,overcast_yes_count, overcast_no_count : [4,4,0]\n",
      "\n",
      "rainy_count,rainy_yes_count, rainy_no_count : [5,3,2]\n",
      "\n",
      "\n",
      "\n",
      "================Temp===================\n",
      "hot_count,hot_yes_count, hot_no_count : [4,2,2]\n",
      "\n",
      "cool_count,cool_yes_count, cool_no_count : [4,3,1]\n",
      "\n",
      "mild_count,mild_yes_count, mild_no_count : [6,4,2]\n",
      "\n",
      "\n",
      "\n",
      "================Humidity===================\n",
      "high_count, high_yes_count, high_no_count : [7,3,4]\n",
      "\n",
      "normal_count, normal_yes_count, normal_no_count : [7,6,1]\n",
      "\n",
      "\n",
      "\n",
      "================Windy===================\n",
      "true_yes_count, true_no_count : [6,3,3]\n",
      "\n",
      "false_yes_count, false_no_count : [8,6,2]\n",
      "\n",
      "\n",
      "\n"
     ]
    }
   ],
   "source": [
    "print(\"================Outlook===================\")\n",
    "sunny_count = df[(df['outlook']=='sunny')]['play'].count()\n",
    "sunny_yes_count = df[(df['outlook']=='sunny')&(df['play']=='yes')]['play'].count()\n",
    "sunny_no_count = df[(df['outlook']=='sunny')&(df['play']=='no')]['play'].count()\n",
    "overcast_count = df[(df['outlook']=='overcast')]['play'].count()\n",
    "overcast_yes_count = df[(df['outlook']=='overcast')&(df['play']=='yes')]['play'].count()\n",
    "overcast_no_count = df[(df['outlook']=='overcast')&(df['play']=='no')]['play'].count()\n",
    "rainy_count = df[(df['outlook']=='rainy')]['play'].count()\n",
    "rainy_yes_count = df[(df['outlook']=='rainy')&(df['play']=='yes')]['play'].count()\n",
    "rainy_no_count = df[(df['outlook']=='rainy')&(df['play']=='no')]['play'].count()\n",
    "print('sunny_count,sunny_yes_count, sunny_no_count : [{},{},{}]\\n'.format(sunny_count,sunny_yes_count,sunny_no_count))\n",
    "print('overcast_count,overcast_yes_count, overcast_no_count : [{},{},{}]\\n'.format(overcast_count,overcast_yes_count,overcast_no_count))\n",
    "print('rainy_count,rainy_yes_count, rainy_no_count : [{},{},{}]\\n\\n\\n'.format(rainy_count,rainy_yes_count,rainy_no_count))\n",
    "\n",
    "print(\"================Temp===================\")\n",
    "hot_count = df[(df['temp']=='hot')]['play'].count()\n",
    "hot_yes_count = df[(df['temp']=='hot')&(df['play']=='yes')]['play'].count()\n",
    "hot_no_count = df[(df['temp']=='hot')&(df['play']=='no')]['play'].count()\n",
    "cool_count = df[(df['temp']=='cool')]['play'].count()\n",
    "cool_yes_count = df[(df['temp']=='cool')&(df['play']=='yes')]['play'].count()\n",
    "cool_no_count = df[(df['temp']=='cool')&(df['play']=='no')]['play'].count()\n",
    "mild_count = df[(df['temp']=='mild')]['play'].count()\n",
    "mild_yes_count = df[(df['temp']=='mild')&(df['play']=='yes')]['play'].count()\n",
    "mild_no_count = df[(df['temp']=='mild')&(df['play']=='no')]['play'].count()\n",
    "print('hot_count,hot_yes_count, hot_no_count : [{},{},{}]\\n'.format(hot_count,hot_yes_count,hot_no_count))\n",
    "print('cool_count,cool_yes_count, cool_no_count : [{},{},{}]\\n'.format(cool_count,cool_yes_count,cool_no_count))\n",
    "print('mild_count,mild_yes_count, mild_no_count : [{},{},{}]\\n\\n\\n'.format(mild_count,mild_yes_count,mild_no_count))\n",
    "\n",
    "print(\"================Humidity===================\")\n",
    "high_count = df[(df['humidity']=='high')]['play'].count()\n",
    "high_yes_count = df[(df['humidity']=='high')&(df['play']=='yes')]['play'].count()\n",
    "high_no_count = df[(df['humidity']=='high')&(df['play']=='no')]['play'].count()\n",
    "normal_count = df[(df['humidity']=='normal')]['play'].count()\n",
    "normal_yes_count = df[(df['humidity']=='normal')&(df['play']=='yes')]['play'].count()\n",
    "normal_no_count = df[(df['humidity']=='normal')&(df['play']=='no')]['play'].count()\n",
    "print('high_count, high_yes_count, high_no_count : [{},{},{}]\\n'.format(high_count,high_yes_count,high_no_count))\n",
    "print('normal_count, normal_yes_count, normal_no_count : [{},{},{}]\\n\\n\\n'.format(normal_count,normal_yes_count,normal_no_count))\n",
    "\n",
    "print(\"================Windy===================\")\n",
    "true_count = df[(df['windy']==True)]['play'].count()\n",
    "true_yes_count = df[(df['windy']==True)&(df['play']=='yes')]['play'].count()\n",
    "true_no_count = df[(df['windy']==True)&(df['play']=='no')]['play'].count()\n",
    "false_count = df[(df['windy']==False)]['play'].count()\n",
    "false_yes_count = df[(df['windy']==False)&(df['play']=='yes')]['play'].count()\n",
    "false_no_count = df[(df['windy']==False)&(df['play']=='no')]['play'].count()\n",
    "print('true_yes_count, true_no_count : [{},{},{}]\\n'.format(true_count,true_yes_count,true_no_count))\n",
    "print('false_yes_count, false_no_count : [{},{},{}]\\n\\n\\n'.format(false_count,false_yes_count,false_no_count))\n"
   ]
  },
  {
   "cell_type": "markdown",
   "metadata": {},
   "source": [
    "### Posterior Probability(which tells us class probability using prior probabilities and evidences)"
   ]
  },
  {
   "cell_type": "markdown",
   "metadata": {},
   "source": [
    "##### Question 1 : Players will play if weather is sunny. Is this statement is correct?"
   ]
  },
  {
   "cell_type": "code",
   "execution_count": 9,
   "metadata": {},
   "outputs": [
    {
     "name": "stdout",
     "output_type": "stream",
     "text": [
      "Probability of playing, while given it is sunny : 0.4\n",
      "Probability of not playing, while given it is sunny : 0.6\n"
     ]
    }
   ],
   "source": [
    "###############Bayes Theorem Rule(as per above question)################\n",
    "########################################################################\n",
    "\n",
    "#p(play|sunny) = (p(sunny|play) * p(play))/p(sunny)\n",
    "\n",
    "p_play = prob_yes\n",
    "p_sunny = sunny_count/len(df)\n",
    "p_sunny_given_play = (2/9)#(if it is sunny 2 people are playing : true i.e., sunny_yes_count/ total 9 people playing in data)\n",
    "\n",
    "p_play_given_sunny = round((p_sunny_given_play * p_play)/(p_sunny),2)\n",
    "print('Probability of playing, while given it is sunny : {}'.format(p_play_given_sunny))\n",
    "\n",
    "#Will calculate not playing prob. on sunny\n",
    "#p(notplay|sunny) = ((p(sunny|notplay)* p(notplay))/p(sunny))\n",
    "p_notplay = prob_no\n",
    "p_sunny = sunny_count/len(df)\n",
    "p_sunny_given_notplay = (3/5)#(if it is sunny 3 people are not playing sunny_no_count/ total 5 people not playing in data)\n",
    "\n",
    "p_notplay_given_sunny = round(((p_sunny_given_notplay * p_notplay)/p_sunny),2)\n",
    "print('Probability of not playing, while given it is sunny : {}'.format(p_notplay_given_sunny))"
   ]
  },
  {
   "cell_type": "markdown",
   "metadata": {},
   "source": [
    "### Key point :\n",
    "* We can see prob. of not playing > prob. of playing.\n",
    "* Hence people would not like to play on sunny day.\n",
    "* We can also add more conditions(temp,humidity and windy) to check prob. of playing and not playing, considering each condition or variable is independent of others."
   ]
  },
  {
   "cell_type": "markdown",
   "metadata": {},
   "source": [
    "##### Question 2 : Players will play if weather is sunny and hot. Is this statement is correct?"
   ]
  },
  {
   "cell_type": "code",
   "execution_count": 10,
   "metadata": {},
   "outputs": [
    {
     "name": "stdout",
     "output_type": "stream",
     "text": [
      "Probability of playing, while given it is sunny & hot: 0.311\n",
      "Probability of not playing, while given it is sunny & hot: 0.6\n"
     ]
    }
   ],
   "source": [
    "#p(play|sunny,hot) = (p(sunny|play) * p(hot|play) * p(play))/(p(sunny)*p(hot))\n",
    "\n",
    "p_play = prob_yes\n",
    "p_sunny = sunny_count/len(df)\n",
    "p_hot = hot_count/len(df)\n",
    "p_sunny_given_play = (2/9)#(if it is sunny 2 people are playing : true i.e., sunny_yes_count/ total 9 people playing in data)\n",
    "p_hot_given_play = (2/9)#(if it is hot 2 people are playing : true i.e., hot_yes_count/ total 9 people playing in data)\n",
    "\n",
    "p_play_given_sunny_hot = round((p_sunny_given_play * p_hot_given_play * p_play)/(p_sunny * p_hot),3)\n",
    "print('Probability of playing, while given it is sunny & hot: {}'.format(p_play_given_sunny_hot))\n",
    "\n",
    "#Will calculate not playing prob. on sunny and hot\n",
    "#p(notplay|sunny,hot) = ((p(sunny|notplay)*p(hot|notplay)*p(notplay))/(p(sunny)*p(hot))\n",
    "p_notplay = prob_no\n",
    "p_sunny = sunny_count/len(df)\n",
    "p_hot = hot_count/len(df)\n",
    "p_sunny_given_notplay = (3/5)#(if it is sunny 3 people are not playing sunny_no_count/ total 5 people not playing in data)\n",
    "p_hot_given_notplay = (2/5)#(if it is hot 2 people are not playing hot_no_count/ total 5 people not playing in data)\n",
    "\n",
    "p_notplay_given_sunny_hot = round(((p_sunny_given_notplay * p_hot_given_notplay * p_notplay)/p_sunny*p_hot),3)\n",
    "print('Probability of not playing, while given it is sunny & hot: {}'.format(p_notplay_given_sunny))"
   ]
  },
  {
   "cell_type": "markdown",
   "metadata": {},
   "source": [
    "### Key point :\n",
    "* We can see prob. of not playing > prob. of playing.\n",
    "* Hence people would not like to play on sunny day.\n",
    "* outlook-temp-humidity-windy-play\n",
    "> * sunny-hot-high-False-no\n",
    "> * sunny-hot-high-True-no\n",
    "> * overcast-hot-high-False-yes\n",
    "> * sunny-mild-high-False-no\n",
    "> * sunny-cool-normal-False-yes\n",
    "> * sunny-mild-normal-True-yes\n",
    "> * overcast-hot-normal-False-yes\n",
    "* Here sunny(2_play,3_notplay) and hot(2_play,2_notplay), so notplay has little high count and getting high not_play prob. value.\n",
    "* Here Bayes theorem doesn't consider two variables case(i.e.,outlook-sunny and temp-hot) counts or probabilities values combindly, it just get individual variable case values(sunny) and probabilities and multiplies with other case values(hot).\n",
    "* But if it checks combined(sunny and hot) probability for class(play or notplay) it would be more good.\n",
    "* Hence Bayes theorem(Naive Bayes, which considers independent or no relations between variables) for generating posterior probability for class based each case prior probability and evidences.\n",
    "* As per my understanding is, (Bayes Theorem)Naive Bayes will be good on cases like : - less number of variables and internally having no relation between them.\n",
    "* But sometimes one variable also has effect on other where we should not use bayes theorem(naive bayes)."
   ]
  },
  {
   "cell_type": "markdown",
   "metadata": {},
   "source": [
    "&nbsp;"
   ]
  },
  {
   "cell_type": "markdown",
   "metadata": {},
   "source": [
    "### Naive Bayes(i.e.,Bayes Theorem) Model on Categorical variables"
   ]
  },
  {
   "cell_type": "code",
   "execution_count": 170,
   "metadata": {},
   "outputs": [],
   "source": [
    "from sklearn.naive_bayes import GaussianNB, MultinomialNB\n",
    "from sklearn.preprocessing import LabelEncoder\n",
    "import copy\n",
    "import warnings\n",
    "warnings.simplefilter(\"ignore\",DeprecationWarning)\n",
    "warnings.filterwarnings(\"ignore\")"
   ]
  },
  {
   "cell_type": "code",
   "execution_count": 171,
   "metadata": {},
   "outputs": [
    {
     "data": {
      "text/html": [
       "<div>\n",
       "<style scoped>\n",
       "    .dataframe tbody tr th:only-of-type {\n",
       "        vertical-align: middle;\n",
       "    }\n",
       "\n",
       "    .dataframe tbody tr th {\n",
       "        vertical-align: top;\n",
       "    }\n",
       "\n",
       "    .dataframe thead th {\n",
       "        text-align: right;\n",
       "    }\n",
       "</style>\n",
       "<table border=\"1\" class=\"dataframe\">\n",
       "  <thead>\n",
       "    <tr style=\"text-align: right;\">\n",
       "      <th></th>\n",
       "      <th>outlook</th>\n",
       "      <th>temp</th>\n",
       "      <th>humidity</th>\n",
       "      <th>windy</th>\n",
       "      <th>play</th>\n",
       "    </tr>\n",
       "  </thead>\n",
       "  <tbody>\n",
       "    <tr>\n",
       "      <td>0</td>\n",
       "      <td>sunny</td>\n",
       "      <td>hot</td>\n",
       "      <td>high</td>\n",
       "      <td>False</td>\n",
       "      <td>no</td>\n",
       "    </tr>\n",
       "    <tr>\n",
       "      <td>1</td>\n",
       "      <td>sunny</td>\n",
       "      <td>hot</td>\n",
       "      <td>high</td>\n",
       "      <td>True</td>\n",
       "      <td>no</td>\n",
       "    </tr>\n",
       "    <tr>\n",
       "      <td>2</td>\n",
       "      <td>overcast</td>\n",
       "      <td>hot</td>\n",
       "      <td>high</td>\n",
       "      <td>False</td>\n",
       "      <td>yes</td>\n",
       "    </tr>\n",
       "    <tr>\n",
       "      <td>3</td>\n",
       "      <td>rainy</td>\n",
       "      <td>mild</td>\n",
       "      <td>high</td>\n",
       "      <td>False</td>\n",
       "      <td>yes</td>\n",
       "    </tr>\n",
       "    <tr>\n",
       "      <td>4</td>\n",
       "      <td>rainy</td>\n",
       "      <td>cool</td>\n",
       "      <td>normal</td>\n",
       "      <td>False</td>\n",
       "      <td>yes</td>\n",
       "    </tr>\n",
       "  </tbody>\n",
       "</table>\n",
       "</div>"
      ],
      "text/plain": [
       "    outlook  temp humidity  windy play\n",
       "0     sunny   hot     high  False   no\n",
       "1     sunny   hot     high   True   no\n",
       "2  overcast   hot     high  False  yes\n",
       "3     rainy  mild     high  False  yes\n",
       "4     rainy  cool   normal  False  yes"
      ]
     },
     "execution_count": 171,
     "metadata": {},
     "output_type": "execute_result"
    }
   ],
   "source": [
    "# creating instance of labelencoder\n",
    "labelencoder = LabelEncoder()\n",
    "df.head()"
   ]
  },
  {
   "cell_type": "code",
   "execution_count": 172,
   "metadata": {},
   "outputs": [
    {
     "data": {
      "text/html": [
       "<div>\n",
       "<style scoped>\n",
       "    .dataframe tbody tr th:only-of-type {\n",
       "        vertical-align: middle;\n",
       "    }\n",
       "\n",
       "    .dataframe tbody tr th {\n",
       "        vertical-align: top;\n",
       "    }\n",
       "\n",
       "    .dataframe thead th {\n",
       "        text-align: right;\n",
       "    }\n",
       "</style>\n",
       "<table border=\"1\" class=\"dataframe\">\n",
       "  <thead>\n",
       "    <tr style=\"text-align: right;\">\n",
       "      <th></th>\n",
       "      <th>outlook</th>\n",
       "      <th>temp</th>\n",
       "      <th>humidity</th>\n",
       "      <th>windy</th>\n",
       "      <th>play</th>\n",
       "    </tr>\n",
       "  </thead>\n",
       "  <tbody>\n",
       "    <tr>\n",
       "      <td>0</td>\n",
       "      <td>2</td>\n",
       "      <td>1</td>\n",
       "      <td>0</td>\n",
       "      <td>0</td>\n",
       "      <td>0</td>\n",
       "    </tr>\n",
       "    <tr>\n",
       "      <td>1</td>\n",
       "      <td>2</td>\n",
       "      <td>1</td>\n",
       "      <td>0</td>\n",
       "      <td>1</td>\n",
       "      <td>0</td>\n",
       "    </tr>\n",
       "    <tr>\n",
       "      <td>2</td>\n",
       "      <td>0</td>\n",
       "      <td>1</td>\n",
       "      <td>0</td>\n",
       "      <td>0</td>\n",
       "      <td>1</td>\n",
       "    </tr>\n",
       "    <tr>\n",
       "      <td>3</td>\n",
       "      <td>1</td>\n",
       "      <td>2</td>\n",
       "      <td>0</td>\n",
       "      <td>0</td>\n",
       "      <td>1</td>\n",
       "    </tr>\n",
       "    <tr>\n",
       "      <td>4</td>\n",
       "      <td>1</td>\n",
       "      <td>0</td>\n",
       "      <td>1</td>\n",
       "      <td>0</td>\n",
       "      <td>1</td>\n",
       "    </tr>\n",
       "  </tbody>\n",
       "</table>\n",
       "</div>"
      ],
      "text/plain": [
       "   outlook  temp  humidity  windy  play\n",
       "0        2     1         0      0     0\n",
       "1        2     1         0      1     0\n",
       "2        0     1         0      0     1\n",
       "3        1     2         0      0     1\n",
       "4        1     0         1      0     1"
      ]
     },
     "execution_count": 172,
     "metadata": {},
     "output_type": "execute_result"
    }
   ],
   "source": [
    "df_new = copy.deepcopy(df)\n",
    "df_new['outlook'] = labelencoder.fit_transform(df[['outlook']])\n",
    "df_new['temp'] = labelencoder.fit_transform(df[['temp']])\n",
    "df_new['humidity'] = labelencoder.fit_transform(df[['humidity']])\n",
    "df_new['windy'] = labelencoder.fit_transform(df[['windy']])\n",
    "df_new['play'] = labelencoder.fit_transform(df[['play']])\n",
    "df_new.head()"
   ]
  },
  {
   "cell_type": "code",
   "execution_count": 185,
   "metadata": {},
   "outputs": [
    {
     "data": {
      "text/plain": [
       "GaussianNB(priors=None, var_smoothing=1e-09)"
      ]
     },
     "execution_count": 185,
     "metadata": {},
     "output_type": "execute_result"
    }
   ],
   "source": [
    "model_g = GaussianNB()\n",
    "model_g.fit(df_new[[\"outlook\",\"temp\"]],df_new[\"play\"])"
   ]
  },
  {
   "cell_type": "code",
   "execution_count": 186,
   "metadata": {},
   "outputs": [
    {
     "data": {
      "text/plain": [
       "Text(0.5, 1.0, 'Frequency counts')"
      ]
     },
     "execution_count": 186,
     "metadata": {},
     "output_type": "execute_result"
    },
    {
     "data": {
      "image/png": "[encoded data removed]",
      "text/plain": [
       "<Figure size 432x288 with 1 Axes>"
      ]
     },
     "metadata": {
      "needs_background": "light"
     },
     "output_type": "display_data"
    }
   ],
   "source": [
    "colors = ['#E69F00', '#56B4E9']\n",
    "names = ['Outlook','Temp']\n",
    "plt.hist([df_new[\"outlook\"], df_new[\"temp\"]], bins = int(180/15), normed=True,\n",
    "         color = colors, label=names)\n",
    "plt.legend()\n",
    "# plt.xlabel('')\n",
    "# plt.ylabel('')\n",
    "plt.title('Frequency counts')"
   ]
  },
  {
   "cell_type": "code",
   "execution_count": 180,
   "metadata": {},
   "outputs": [
    {
     "name": "stdout",
     "output_type": "stream",
     "text": [
      "[0]\n"
     ]
    },
    {
     "data": {
      "text/plain": [
       "array([[0.70885451, 0.29114549]])"
      ]
     },
     "execution_count": 180,
     "metadata": {},
     "output_type": "execute_result"
    }
   ],
   "source": [
    "pred = model_g.predict([[2,1]]) #Question 2 : Players will play if weather is sunny and hot. Is this statement is correct?\n",
    "print(pred)\n",
    "\n",
    "model_g.predict_proba([[2,1]])"
   ]
  },
  {
   "cell_type": "code",
   "execution_count": 183,
   "metadata": {},
   "outputs": [
    {
     "data": {
      "text/plain": [
       "MultinomialNB(alpha=1.0, class_prior=None, fit_prior=True)"
      ]
     },
     "execution_count": 183,
     "metadata": {},
     "output_type": "execute_result"
    }
   ],
   "source": [
    "model_m = MultinomialNB()\n",
    "model_m.fit(df_new[[\"outlook\",\"temp\"]],df_new[\"play\"])"
   ]
  },
  {
   "cell_type": "code",
   "execution_count": 184,
   "metadata": {},
   "outputs": [
    {
     "name": "stdout",
     "output_type": "stream",
     "text": [
      "[1]\n"
     ]
    },
    {
     "data": {
      "text/plain": [
       "array([[0.42833319, 0.57166681]])"
      ]
     },
     "execution_count": 184,
     "metadata": {},
     "output_type": "execute_result"
    }
   ],
   "source": [
    "pred = model_m.predict([[2,1]]) #Question 2 : Players will play if weather is sunny and hot. Is this statement is correct?\n",
    "print(pred)\n",
    "\n",
    "model_m.predict_proba([[2,1]])"
   ]
  },
  {
   "cell_type": "markdown",
   "metadata": {},
   "source": [
    "#### Key Note:\n",
    "* Here GaussianNaiveBayes giving accurate results rather than MultinomialNaiveBayes.\n",
    "* Even in some blogs people are using GaussinaNaiveBayes eventhough predictors having discrete values. May be these discrete value showing normal distribution that's why guassian naive bayes working good on this.\n",
    "* We can see prob. of not playing[class_0] > prob. of playing[class_1].\n",
    "* Hence, it is predicting if it is sunny, and hot. People would not like to play.\n",
    "* Therefore, manual and ML algorithm prediction matched(some variation will be there in probabilities, beacuse of some internal weitages in ML algorithm)"
   ]
  },
  {
   "cell_type": "markdown",
   "metadata": {},
   "source": [
    "&nbsp;"
   ]
  },
  {
   "cell_type": "markdown",
   "metadata": {},
   "source": [
    "### Naive Bayes(Gaussian Distribution) Manual Calculation"
   ]
  },
  {
   "cell_type": "code",
   "execution_count": 34,
   "metadata": {},
   "outputs": [],
   "source": [
    "import pandas as pd\n",
    "import numpy as np\n",
    "from sklearn.model_selection import train_test_split\n",
    "from sklearn.preprocessing import minmax_scale"
   ]
  },
  {
   "cell_type": "code",
   "execution_count": 102,
   "metadata": {},
   "outputs": [
    {
     "data": {
      "text/html": [
       "<div>\n",
       "<style scoped>\n",
       "    .dataframe tbody tr th:only-of-type {\n",
       "        vertical-align: middle;\n",
       "    }\n",
       "\n",
       "    .dataframe tbody tr th {\n",
       "        vertical-align: top;\n",
       "    }\n",
       "\n",
       "    .dataframe thead th {\n",
       "        text-align: right;\n",
       "    }\n",
       "</style>\n",
       "<table border=\"1\" class=\"dataframe\">\n",
       "  <thead>\n",
       "    <tr style=\"text-align: right;\">\n",
       "      <th></th>\n",
       "      <th>User ID</th>\n",
       "      <th>Gender</th>\n",
       "      <th>Age</th>\n",
       "      <th>EstimatedSalary</th>\n",
       "      <th>Purchased</th>\n",
       "    </tr>\n",
       "  </thead>\n",
       "  <tbody>\n",
       "    <tr>\n",
       "      <td>0</td>\n",
       "      <td>15624510</td>\n",
       "      <td>Male</td>\n",
       "      <td>19</td>\n",
       "      <td>19000</td>\n",
       "      <td>0</td>\n",
       "    </tr>\n",
       "    <tr>\n",
       "      <td>1</td>\n",
       "      <td>15810944</td>\n",
       "      <td>Male</td>\n",
       "      <td>35</td>\n",
       "      <td>20000</td>\n",
       "      <td>0</td>\n",
       "    </tr>\n",
       "    <tr>\n",
       "      <td>2</td>\n",
       "      <td>15668575</td>\n",
       "      <td>Female</td>\n",
       "      <td>26</td>\n",
       "      <td>43000</td>\n",
       "      <td>0</td>\n",
       "    </tr>\n",
       "    <tr>\n",
       "      <td>3</td>\n",
       "      <td>15603246</td>\n",
       "      <td>Female</td>\n",
       "      <td>27</td>\n",
       "      <td>57000</td>\n",
       "      <td>0</td>\n",
       "    </tr>\n",
       "    <tr>\n",
       "      <td>4</td>\n",
       "      <td>15804002</td>\n",
       "      <td>Male</td>\n",
       "      <td>19</td>\n",
       "      <td>76000</td>\n",
       "      <td>0</td>\n",
       "    </tr>\n",
       "  </tbody>\n",
       "</table>\n",
       "</div>"
      ],
      "text/plain": [
       "    User ID  Gender  Age  EstimatedSalary  Purchased\n",
       "0  15624510    Male   19            19000          0\n",
       "1  15810944    Male   35            20000          0\n",
       "2  15668575  Female   26            43000          0\n",
       "3  15603246  Female   27            57000          0\n",
       "4  15804002    Male   19            76000          0"
      ]
     },
     "execution_count": 102,
     "metadata": {},
     "output_type": "execute_result"
    }
   ],
   "source": [
    "filepath = os.getcwd()+\"/Social_Network_Ads.csv\"\n",
    "Data = pd.read_csv(filepath,delimiter='\\t')\n",
    "Data_backup = pd.read_csv(filepath,delimiter='\\t')\n",
    "Data.head(5)"
   ]
  },
  {
   "cell_type": "code",
   "execution_count": 103,
   "metadata": {},
   "outputs": [],
   "source": [
    "Data['Age'] = minmax_scale(Data['Age'])\n",
    "Data['EstimatedSalary'] = minmax_scale(Data['EstimatedSalary'])"
   ]
  },
  {
   "cell_type": "code",
   "execution_count": 104,
   "metadata": {},
   "outputs": [
    {
     "name": "stdout",
     "output_type": "stream",
     "text": [
      "(320, 2) (320, 1)\n",
      "(80, 2) (80, 1)\n",
      "(320, 3) (80, 3)\n"
     ]
    }
   ],
   "source": [
    "X = Data.iloc[:,[2,3]]\n",
    "y = Data.iloc[:,[4]]\n",
    "\n",
    "X_train, X_test, y_train, y_test = train_test_split(X,y,test_size = 0.2, random_state=101)\n",
    "\n",
    "df_train = pd.concat([X_train,y_train],axis=1)\n",
    "df_test = pd.concat([X_test,y_test],axis=1)\n",
    "\n",
    "print(X_train.shape, y_train.shape)\n",
    "print(X_test.shape, y_test.shape)\n",
    "print(df_train.shape, df_test.shape)"
   ]
  },
  {
   "cell_type": "code",
   "execution_count": 105,
   "metadata": {},
   "outputs": [],
   "source": [
    "df_train_0 = df_train[df_train['Purchased']==0][['Age', 'EstimatedSalary']].values.tolist()\n",
    "df_train_1 = df_train[df_train['Purchased']==1][['Age', 'EstimatedSalary']].values.tolist()\n",
    "df_test_0 = df_test[df_test['Purchased']==0][['Age', 'EstimatedSalary']].values.tolist()\n",
    "df_test_1 = df_test[df_test['Purchased']==1][['Age', 'EstimatedSalary']].values.tolist()"
   ]
  },
  {
   "cell_type": "code",
   "execution_count": 106,
   "metadata": {},
   "outputs": [
    {
     "name": "stdout",
     "output_type": "stream",
     "text": [
      "[0.23809523809523808, 0.32592592592592595]\n",
      "[0.6428571428571428, 0.08148148148148147]\n",
      "[0.19047619047619052, 0.4222222222222222]\n",
      "[0.4523809523809524, 0.9555555555555555]\n"
     ]
    }
   ],
   "source": [
    "print(df_train_0[0])\n",
    "print(df_train_1[0])\n",
    "print(df_test_0[0])\n",
    "print(df_test_1[0])"
   ]
  },
  {
   "cell_type": "code",
   "execution_count": 107,
   "metadata": {},
   "outputs": [],
   "source": [
    "train_0_mean = np.mean(df_train_0)\n",
    "train_1_mean = np.mean(df_train_1)\n",
    "train_0_std = np.std(df_train_0)\n",
    "train_1_std = np.std(df_train_1)"
   ]
  },
  {
   "cell_type": "code",
   "execution_count": 108,
   "metadata": {},
   "outputs": [
    {
     "data": {
      "text/plain": [
       "[0.19047619047619052, 0.4222222222222222]"
      ]
     },
     "execution_count": 108,
     "metadata": {},
     "output_type": "execute_result"
    }
   ],
   "source": [
    "df_test_0[0]"
   ]
  },
  {
   "cell_type": "code",
   "execution_count": 123,
   "metadata": {},
   "outputs": [
    {
     "name": "stdout",
     "output_type": "stream",
     "text": [
      "         Age  EstimatedSalary  Purchased\n",
      "38  0.190476         0.422222          0\n",
      "\n",
      "\n",
      "User ID            15671766\n",
      "Gender               Female\n",
      "Age                0.190476\n",
      "EstimatedSalary    0.422222\n",
      "Purchased                 0\n",
      "Name: 38, dtype: object\n",
      "\n",
      "\n",
      "User ID            15671766\n",
      "Gender               Female\n",
      "Age                      26\n",
      "EstimatedSalary       72000\n",
      "Purchased                 0\n",
      "Name: 38, dtype: object\n"
     ]
    }
   ],
   "source": [
    "print(df_test.head(1))\n",
    "print('\\n')\n",
    "print(Data.iloc[38,:])\n",
    "print('\\n')\n",
    "print(Data_backup.iloc[38,:])"
   ]
  },
  {
   "cell_type": "markdown",
   "metadata": {},
   "source": [
    "&nbsp;"
   ]
  },
  {
   "cell_type": "markdown",
   "metadata": {},
   "source": [
    "##### Question 1: Age:26, EstimatedSalary:72000, as per data he will not purchase."
   ]
  },
  {
   "cell_type": "code",
   "execution_count": 210,
   "metadata": {},
   "outputs": [
    {
     "name": "stdout",
     "output_type": "stream",
     "text": [
      "Probability of 0 :\n",
      "[1.51385592 1.99798931]\n",
      "3.0246679448692326\n",
      "1.51385592 * 1.99798931 3.024667945040215\n",
      "----------------------\n",
      "prob_0 : 1.9187737275264196 \n",
      "\n",
      "Probability of 1 :\n",
      "[0.4786893  1.20516969]\n",
      "0.5769018401035568\n",
      "0.4786893 * 1.20516969 0.576901835287317\n",
      "----------------------\n",
      "prob_1 : 0.21092973528786296 \n",
      "\n",
      "prediction : 0\n"
     ]
    }
   ],
   "source": [
    "prob_0 = np.exp(-(df_test_0[0]-train_0_mean)**2/(2*train_0_std**2))*(1/(np.sqrt(2*np.pi)*train_0_std))\n",
    "print('Probability of 0 :')\n",
    "print(prob_0)\n",
    "prob_0 = np.prod(prob_0)\n",
    "print(prob_0)\n",
    "print('1.51385592 * 1.99798931',1.51385592*1.99798931)\n",
    "prob_0  = prob_0 * (len(df_train_0)/len(df_train))\n",
    "print('----------------------')\n",
    "print('prob_0 :',prob_0,'\\n')\n",
    "\n",
    "prob_1 = np.exp(-(df_test_0[0]-train_1_mean)**2/(2*train_1_std**2))*(1/(np.sqrt(2*np.pi)*train_1_std))\n",
    "print('Probability of 1 :')\n",
    "print(prob_1)\n",
    "prob_1 = np.prod(prob_1)\n",
    "print(prob_1)\n",
    "print('0.4786893 * 1.20516969',0.4786893*1.20516969)\n",
    "prob_1 = prob_1 * (len(df_train_1)/len(df_train))\n",
    "print('----------------------')\n",
    "print('prob_1 :',prob_1,'\\n')\n",
    "\n",
    "\n",
    "print('prediction :',1*(prob_1>prob_0))"
   ]
  },
  {
   "cell_type": "markdown",
   "metadata": {},
   "source": [
    "### Key Note:\n",
    "* pro_0 > prob_1, hence as per manual calculations he will not purchase."
   ]
  },
  {
   "cell_type": "code",
   "execution_count": 122,
   "metadata": {},
   "outputs": [
    {
     "name": "stdout",
     "output_type": "stream",
     "text": [
      "[0.4523809523809524, 0.9555555555555555] \n",
      "\n",
      "Age                0.452381\n",
      "EstimatedSalary    0.955556\n",
      "Purchased          1.000000\n",
      "Name: 222, dtype: float64 \n",
      "\n",
      "User ID            15694879\n",
      "Gender                 Male\n",
      "Age                      37\n",
      "EstimatedSalary      144000\n",
      "Purchased                 1\n",
      "Name: 222, dtype: object\n"
     ]
    }
   ],
   "source": [
    "print(df_test_1[0],'\\n')\n",
    "print(df_test[df_test['Purchased']==1].loc[222,:],'\\n')\n",
    "print(Data_backup.iloc[222,:])"
   ]
  },
  {
   "cell_type": "markdown",
   "metadata": {},
   "source": [
    "&nbsp;"
   ]
  },
  {
   "cell_type": "markdown",
   "metadata": {},
   "source": [
    "##### Question 2: Age:37, EstimatedSalary:144000, as per data he will purchase."
   ]
  },
  {
   "cell_type": "code",
   "execution_count": 211,
   "metadata": {},
   "outputs": [
    {
     "name": "stdout",
     "output_type": "stream",
     "text": [
      "Probability of 0 :\n",
      "[1.84200157 0.00879096]\n",
      "0.016192956842772128\n",
      "1.84200157 * 0.00879096 0.0161929621218072\n",
      "----------------------\n",
      "prob_0 : 0.01027240699713357 \n",
      "\n",
      "Probability of 1 :\n",
      "[1.28700013 0.6052632 ]\n",
      "0.7789738171443895\n",
      "1.28700013*0.6052632 0.778973817084216\n",
      "----------------------\n",
      "prob_1 : 0.2848123018934174 \n",
      "\n",
      "prediction : 1\n"
     ]
    }
   ],
   "source": [
    "prob_0  = np.exp(-(df_test_1[0]-train_0_mean)**2/(2*train_0_std**2))*(1/(np.sqrt(2*np.pi)*train_0_std))\n",
    "print('Probability of 0 :')\n",
    "print(prob_0)\n",
    "prob_0 = np.prod(prob_0)\n",
    "print(prob_0)\n",
    "print('1.84200157 * 0.00879096',1.84200157*0.00879096)\n",
    "prob_0  = prob_0 * (len(df_train_0)/len(df_train))\n",
    "print('----------------------')\n",
    "print('prob_0 :',prob_0,'\\n')\n",
    "\n",
    "\n",
    "prob_1 = np.exp(-(df_test_1[0]-train_1_mean)**2/(2*train_1_std**2))*(1/(np.sqrt(2*np.pi)*train_1_std))\n",
    "print('Probability of 1 :')\n",
    "print(prob_1)\n",
    "prob_1 = np.prod(prob_1)\n",
    "print(prob_1)\n",
    "print('1.28700013*0.6052632',1.28700013*0.6052632)\n",
    "prob_1 = prob_1 * (len(df_train_1)/len(df_train))\n",
    "print('----------------------')\n",
    "print('prob_1 :',prob_1,'\\n')\n",
    "\n",
    "\n",
    "print('prediction :',1*(prob_1>prob_0))"
   ]
  },
  {
   "cell_type": "markdown",
   "metadata": {},
   "source": [
    "### Key Note:\n",
    "* pro_1 > prob_0, hence as per manual calculations he will not purchase.(which is correct)"
   ]
  },
  {
   "cell_type": "markdown",
   "metadata": {},
   "source": [
    "&nbsp;"
   ]
  },
  {
   "cell_type": "markdown",
   "metadata": {},
   "source": [
    "&nbsp;"
   ]
  },
  {
   "cell_type": "markdown",
   "metadata": {},
   "source": [
    "### Take Away Points(Gaussian Naive Bayes):\n",
    "* np.prod([8,2]) = 16, means it multiplication of two values.\n",
    "* Here we are seperating two sets of train data, by filtering class = [0,1]\n",
    "* Then getting mean and standard deviation of each set of data.\n",
    "* When new test data point comes, & we tries to get probability value according to each set[0,1](mean, stdev).\n",
    "* Here probability calculation is :same joint probability(it means multiplying probabilities)\n",
    "* prob class 0 : ((X1[0].prob * X2[0].prob..) * (x[0].size/len(df_train)) ) \n",
    "> * i.e.,np.exp(-(df_test_1[0]-train_0_mean)**2/(2*train_0_std**2))*(1/(np.sqrt(2*np.pi)*train_0_std))\n",
    "> * Here we are checking test data point in X_train_0 probability distribution (Gaussian distribution) \n",
    "* prob class 1 : ((X1[1].prob * X2[1].prob..) * (x[1].size/len(df_train)) ) \n",
    "> * np.exp(-(df_test_1[0]-train_1_mean)**2/(2*train_1_std**2))*(1/(np.sqrt(2*np.pi)*train_1_std))\n",
    "> * > * Here we are checking test data point in X_train_1 probability distribution (Gaussian distribution)\n",
    "* Therefore, in simple we check test data point in both X_train_0 and X_train_1 distributions data get probabilities of it and see in which distributions(X_train_0 and X_train_1) test_data point has higher probability and consider it as its class 0 or 1. This can be extended more than 2 classes."
   ]
  },
  {
   "cell_type": "markdown",
   "metadata": {},
   "source": [
    "&nbsp;"
   ]
  },
  {
   "cell_type": "markdown",
   "metadata": {},
   "source": [
    "### Naive Bayes(Gaussian Distribution) Model"
   ]
  },
  {
   "cell_type": "code",
   "execution_count": 195,
   "metadata": {},
   "outputs": [
    {
     "data": {
      "text/plain": [
       "GaussianNB(priors=None, var_smoothing=1e-09)"
      ]
     },
     "execution_count": 195,
     "metadata": {},
     "output_type": "execute_result"
    }
   ],
   "source": [
    "from sklearn.naive_bayes import GaussianNB\n",
    "classifier = GaussianNB()\n",
    "classifier.fit(X_train, y_train)"
   ]
  },
  {
   "cell_type": "markdown",
   "metadata": {},
   "source": [
    "##### Question 1: Age:26, EstimatedSalary:72000, as per data he will not purchase."
   ]
  },
  {
   "cell_type": "code",
   "execution_count": 206,
   "metadata": {},
   "outputs": [
    {
     "name": "stdout",
     "output_type": "stream",
     "text": [
      "[[0.19047619047619052, 0.4222222222222222]] \n",
      "\n",
      "prediction : [0]\n"
     ]
    }
   ],
   "source": [
    "# Predicting the Test set results\n",
    "print([df_test_0[0]],'\\n')\n",
    "# print(df_test_0[0])\n",
    "\n",
    "y_pred = classifier.predict([df_test_0[0]])\n",
    "print('prediction :',y_pred)"
   ]
  },
  {
   "cell_type": "markdown",
   "metadata": {},
   "source": [
    "##### Question 2: Age:37, EstimatedSalary:144000, as per data he will purchase."
   ]
  },
  {
   "cell_type": "code",
   "execution_count": 209,
   "metadata": {},
   "outputs": [
    {
     "name": "stdout",
     "output_type": "stream",
     "text": [
      "[[0.4523809523809524, 0.9555555555555555]] \n",
      "\n",
      "prediction : [1]\n"
     ]
    }
   ],
   "source": [
    "# Predicting the Test set results\n",
    "print([df_test_1[0]],'\\n')\n",
    "# print(df_test_1[0])\n",
    "\n",
    "y_pred = classifier.predict([df_test_1[0]])\n",
    "print('prediction :',y_pred)"
   ]
  },
  {
   "cell_type": "markdown",
   "metadata": {},
   "source": [
    "&nbsp;"
   ]
  },
  {
   "cell_type": "markdown",
   "metadata": {},
   "source": [
    "### Key Note:\n",
    "* Our manual calculation predictions and Model prediction both matched."
   ]
  }
 ],
 "metadata": {
  "kernelspec": {
   "display_name": "Python 3",
   "language": "python",
   "name": "python3"
  },
  "language_info": {
   "codemirror_mode": {
    "name": "ipython",
    "version": 3
   },
   "file_extension": ".py",
   "mimetype": "text/x-python",
   "name": "python",
   "nbconvert_exporter": "python",
   "pygments_lexer": "ipython3",
   "version": "3.7.4"
  }
 },
 "nbformat": 4,
 "nbformat_minor": 4
}
